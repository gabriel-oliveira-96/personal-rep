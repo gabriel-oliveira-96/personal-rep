{
 "cells": [
  {
   "cell_type": "code",
   "execution_count": 51,
   "metadata": {},
   "outputs": [],
   "source": [
    "import pandas as pd\n",
    "import requests\n",
    "import json"
   ]
  },
  {
   "cell_type": "code",
   "execution_count": 52,
   "metadata": {},
   "outputs": [],
   "source": [
    "api = requests.get('https://pokeapi.co/api/v2/generation/generation-v').json()\n",
    "nomes = api['pokemon_species']\n",
    "df = pd.DataFrame (nomes, columns = ['name'])\n",
    "df = df.head()"
   ]
  },
  {
   "cell_type": "code",
   "execution_count": 53,
   "metadata": {},
   "outputs": [],
   "source": [
    "def pegar_habilidades(pokemon):\n",
    "    api = f'https://pokeapi.co/api/v2/pokemon/{pokemon}'\n",
    "    res = requests.get(api)\n",
    "    poke = res.json()\n",
    "    if poke == []:\n",
    "        habilidades = 'nao encontrado'\n",
    "        return habilidades\n",
    "    else:\n",
    "        habilidades = []\n",
    "        for i in poke['abilities']:\n",
    "            tokens = i['ability']['name']\n",
    "            habilidades.append(tokens)   \n",
    "        return habilidades"
   ]
  },
  {
   "cell_type": "code",
   "execution_count": 54,
   "metadata": {},
   "outputs": [
    {
     "data": {
      "text/plain": [
       "['run-away', 'keen-eye', 'analytic']"
      ]
     },
     "execution_count": 54,
     "metadata": {},
     "output_type": "execute_result"
    }
   ],
   "source": [
    "pegar_habilidades('patrat')"
   ]
  },
  {
   "cell_type": "code",
   "execution_count": 55,
   "metadata": {},
   "outputs": [
    {
     "data": {
      "text/plain": [
       "dict"
      ]
     },
     "execution_count": 55,
     "metadata": {},
     "output_type": "execute_result"
    }
   ],
   "source": [
    "type(api)"
   ]
  },
  {
   "cell_type": "code",
   "execution_count": 56,
   "metadata": {},
   "outputs": [],
   "source": [
    "def pegar_regiao(pokemon):\n",
    "    api = f'https://pokeapi.co/api/v2/pokemon/{pokemon}/encounters'\n",
    "    res = requests.get(api)\n",
    "    poke = res.json()\n",
    "    if poke == []:\n",
    "        localizacao = 'nao encontrado'\n",
    "        return localizacao\n",
    "    else:\n",
    "        region = pd.DataFrame(poke)\n",
    "        region = region.head(1)\n",
    "        region['location_area'] = region['location_area'].astype('str') \n",
    "        region = region[['location_area']]\n",
    "        region['final_location'] = region['location_area'].str.split(',', expand=True)[0]\n",
    "        region = region.replace(\"{'name': '\",'', regex=True)\n",
    "        region = region.replace(\"'\",'', regex=True)  \n",
    "        localizacao = region['final_location'].tolist()\n",
    "#         for i in poke[0]:\n",
    "#             tokens = i['location_area']\n",
    "#             localizacao.append(tokens)\n",
    "        return localizacao"
   ]
  },
  {
   "cell_type": "code",
   "execution_count": 57,
   "metadata": {},
   "outputs": [
    {
     "data": {
      "text/html": [
       "<div>\n",
       "<style scoped>\n",
       "    .dataframe tbody tr th:only-of-type {\n",
       "        vertical-align: middle;\n",
       "    }\n",
       "\n",
       "    .dataframe tbody tr th {\n",
       "        vertical-align: top;\n",
       "    }\n",
       "\n",
       "    .dataframe thead th {\n",
       "        text-align: right;\n",
       "    }\n",
       "</style>\n",
       "<table border=\"1\" class=\"dataframe\">\n",
       "  <thead>\n",
       "    <tr style=\"text-align: right;\">\n",
       "      <th></th>\n",
       "      <th>name</th>\n",
       "      <th>habilidades</th>\n",
       "    </tr>\n",
       "  </thead>\n",
       "  <tbody>\n",
       "    <tr>\n",
       "      <th>0</th>\n",
       "      <td>victini</td>\n",
       "      <td>[victory-star]</td>\n",
       "    </tr>\n",
       "    <tr>\n",
       "      <th>1</th>\n",
       "      <td>snivy</td>\n",
       "      <td>[overgrow, contrary]</td>\n",
       "    </tr>\n",
       "    <tr>\n",
       "      <th>2</th>\n",
       "      <td>tepig</td>\n",
       "      <td>[blaze, thick-fat]</td>\n",
       "    </tr>\n",
       "    <tr>\n",
       "      <th>3</th>\n",
       "      <td>oshawott</td>\n",
       "      <td>[torrent, shell-armor]</td>\n",
       "    </tr>\n",
       "    <tr>\n",
       "      <th>4</th>\n",
       "      <td>patrat</td>\n",
       "      <td>[run-away, keen-eye, analytic]</td>\n",
       "    </tr>\n",
       "  </tbody>\n",
       "</table>\n",
       "</div>"
      ],
      "text/plain": [
       "       name                     habilidades\n",
       "0   victini                  [victory-star]\n",
       "1     snivy            [overgrow, contrary]\n",
       "2     tepig              [blaze, thick-fat]\n",
       "3  oshawott          [torrent, shell-armor]\n",
       "4    patrat  [run-away, keen-eye, analytic]"
      ]
     },
     "execution_count": 57,
     "metadata": {},
     "output_type": "execute_result"
    }
   ],
   "source": [
    "generation_v = df\n",
    "generation_v = pd.DataFrame(generation_v)\n",
    "generation_v.columns = [\"name\"]\n",
    "generation_v['habilidades'] = generation_v.apply(lambda row: pegar_habilidades(row[\"name\"]), axis = 1)\n",
    "generation_v"
   ]
  },
  {
   "cell_type": "code",
   "execution_count": 59,
   "metadata": {},
   "outputs": [
    {
     "data": {
      "text/html": [
       "<div>\n",
       "<style scoped>\n",
       "    .dataframe tbody tr th:only-of-type {\n",
       "        vertical-align: middle;\n",
       "    }\n",
       "\n",
       "    .dataframe tbody tr th {\n",
       "        vertical-align: top;\n",
       "    }\n",
       "\n",
       "    .dataframe thead th {\n",
       "        text-align: right;\n",
       "    }\n",
       "</style>\n",
       "<table border=\"1\" class=\"dataframe\">\n",
       "  <thead>\n",
       "    <tr style=\"text-align: right;\">\n",
       "      <th></th>\n",
       "      <th>name</th>\n",
       "      <th>habilidades</th>\n",
       "      <th>localizacao</th>\n",
       "    </tr>\n",
       "  </thead>\n",
       "  <tbody>\n",
       "    <tr>\n",
       "      <th>0</th>\n",
       "      <td>victini</td>\n",
       "      <td>[victory-star]</td>\n",
       "      <td>nao encontrado</td>\n",
       "    </tr>\n",
       "    <tr>\n",
       "      <th>1</th>\n",
       "      <td>snivy</td>\n",
       "      <td>[overgrow, contrary]</td>\n",
       "      <td>[hoenn-route-101-area]</td>\n",
       "    </tr>\n",
       "    <tr>\n",
       "      <th>2</th>\n",
       "      <td>tepig</td>\n",
       "      <td>[blaze, thick-fat]</td>\n",
       "      <td>[hoenn-route-101-area]</td>\n",
       "    </tr>\n",
       "    <tr>\n",
       "      <th>3</th>\n",
       "      <td>oshawott</td>\n",
       "      <td>[torrent, shell-armor]</td>\n",
       "      <td>[hoenn-route-101-area]</td>\n",
       "    </tr>\n",
       "    <tr>\n",
       "      <th>4</th>\n",
       "      <td>patrat</td>\n",
       "      <td>[run-away, keen-eye, analytic]</td>\n",
       "      <td>[dreamyard-area]</td>\n",
       "    </tr>\n",
       "  </tbody>\n",
       "</table>\n",
       "</div>"
      ],
      "text/plain": [
       "       name                     habilidades             localizacao\n",
       "0   victini                  [victory-star]          nao encontrado\n",
       "1     snivy            [overgrow, contrary]  [hoenn-route-101-area]\n",
       "2     tepig              [blaze, thick-fat]  [hoenn-route-101-area]\n",
       "3  oshawott          [torrent, shell-armor]  [hoenn-route-101-area]\n",
       "4    patrat  [run-away, keen-eye, analytic]        [dreamyard-area]"
      ]
     },
     "execution_count": 59,
     "metadata": {},
     "output_type": "execute_result"
    }
   ],
   "source": [
    "generation_v['localizacao'] = generation_v.apply(lambda row: pegar_regiao(row[\"name\"]), axis = 1)\n",
    "generation_v"
   ]
  }
 ],
 "metadata": {
  "kernelspec": {
   "display_name": "Python 3",
   "language": "python",
   "name": "python3"
  },
  "language_info": {
   "codemirror_mode": {
    "name": "ipython",
    "version": 3
   },
   "file_extension": ".py",
   "mimetype": "text/x-python",
   "name": "python",
   "nbconvert_exporter": "python",
   "pygments_lexer": "ipython3",
   "version": "3.8.3"
  }
 },
 "nbformat": 4,
 "nbformat_minor": 4
}
